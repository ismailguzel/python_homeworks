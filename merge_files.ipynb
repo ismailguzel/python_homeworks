{
 "cells": [
  {
   "cell_type": "markdown",
   "metadata": {},
   "source": [
    "# Homework\n",
    "\n",
    "To get the movie rating data go to this link : https://grouplens.org/datasets/movielens/  and download the m1-1m.zip file.\n",
    "\n",
    "Write a function that takes three files as input and writes a text file (named as “merged.dat”) for merged data. Merged data should have the following order.\n",
    "\n",
    "user_id movie_id  rating  timestamp  gender   age   occupation   zip   title   genres   year\n",
    "\n",
    "merget.dat file should be like this\n",
    "\n",
    "\n",
    "<img src=\"./homework1.jpg\" />\n",
    "\n",
    "\n",
    "<img src=\"./homework2.jpg\" />"
   ]
  },
  {
   "cell_type": "markdown",
   "metadata": {},
   "source": [
    "## Load Library re"
   ]
  },
  {
   "cell_type": "code",
   "execution_count": 1,
   "metadata": {},
   "outputs": [],
   "source": [
    "import re"
   ]
  },
  {
   "cell_type": "markdown",
   "metadata": {},
   "source": [
    "## Read files which is merged"
   ]
  },
  {
   "cell_type": "code",
   "execution_count": 2,
   "metadata": {},
   "outputs": [],
   "source": [
    "moviefilename=\"./data-files/ml-1m/movies.dat\"\n",
    "moviefile=open(moviefilename,encoding=\"latin-1\")\n",
    "movies=moviefile.readlines()\n",
    "userfilename=\"./data-files/ml-1m/users.dat\"\n",
    "userfile=open(userfilename,encoding=\"latin-1\")\n",
    "users=userfile.readlines()\n",
    "ratingsfilename=\"./data-files/ml-1m/ratings.dat\"\n",
    "ratingfile=open(ratingsfilename,encoding=\"latin-1\")\n",
    "ratings=ratingfile.readlines()"
   ]
  },
  {
   "cell_type": "markdown",
   "metadata": {},
   "source": [
    "### First four element of the movies.dat , users.dat and ratings.dat"
   ]
  },
  {
   "cell_type": "code",
   "execution_count": 3,
   "metadata": {},
   "outputs": [
    {
     "data": {
      "text/plain": [
       "[\"1::Toy Story (1995)::Animation|Children's|Comedy\\n\",\n",
       " \"2::Jumanji (1995)::Adventure|Children's|Fantasy\\n\",\n",
       " '3::Grumpier Old Men (1995)::Comedy|Romance\\n',\n",
       " '4::Waiting to Exhale (1995)::Comedy|Drama\\n']"
      ]
     },
     "execution_count": 3,
     "metadata": {},
     "output_type": "execute_result"
    }
   ],
   "source": [
    "movies[:4]"
   ]
  },
  {
   "cell_type": "code",
   "execution_count": 4,
   "metadata": {},
   "outputs": [
    {
     "data": {
      "text/plain": [
       "['1::F::1::10::48067\\n',\n",
       " '2::M::56::16::70072\\n',\n",
       " '3::M::25::15::55117\\n',\n",
       " '4::M::45::7::02460\\n']"
      ]
     },
     "execution_count": 4,
     "metadata": {},
     "output_type": "execute_result"
    }
   ],
   "source": [
    "users[:4]"
   ]
  },
  {
   "cell_type": "code",
   "execution_count": 5,
   "metadata": {},
   "outputs": [
    {
     "data": {
      "text/plain": [
       "['1::1193::5::978300760\\n',\n",
       " '1::661::3::978302109\\n',\n",
       " '1::914::3::978301968\\n',\n",
       " '1::3408::4::978300275\\n']"
      ]
     },
     "execution_count": 5,
     "metadata": {},
     "output_type": "execute_result"
    }
   ],
   "source": [
    "ratings[:4]"
   ]
  },
  {
   "cell_type": "markdown",
   "metadata": {},
   "source": [
    "## In movies title, I will put the year of movie. And also, create the list as movie_id and movie_property"
   ]
  },
  {
   "cell_type": "code",
   "execution_count": 6,
   "metadata": {},
   "outputs": [],
   "source": [
    "pattern=r\"\\((\\d+)\\)\"\n",
    "movie_id = []\n",
    "movie_property = []\n",
    "for movie in movies:\n",
    "    movieid,movie_title,movie_genre=movie.strip().split(\"::\")\n",
    "    year=re.findall(pattern,movie_title)[0]\n",
    "    movie_title_modified=re.sub(pattern,\"\",movie_title)\n",
    "    movie_id.append(movieid)\n",
    "    movie_property.append( \"::\".join([movie_title_modified,movie_genre,year]))"
   ]
  },
  {
   "cell_type": "markdown",
   "metadata": {},
   "source": [
    "### Create the list as user_id and user_property"
   ]
  },
  {
   "cell_type": "code",
   "execution_count": 7,
   "metadata": {},
   "outputs": [],
   "source": [
    "user_id = []\n",
    "user_property = []\n",
    "for user in users:\n",
    "    user_id.append(user.strip().split(\"::\")[0])\n",
    "    user_property.append( \"::\".join(user.strip().split(\"::\")[1:]))"
   ]
  },
  {
   "cell_type": "markdown",
   "metadata": {},
   "source": [
    "### Create the list as rating_userid, rating_movieid and rating_property"
   ]
  },
  {
   "cell_type": "code",
   "execution_count": 8,
   "metadata": {},
   "outputs": [],
   "source": [
    "rating_userid = []\n",
    "rating_movieid = []\n",
    "rating_property = []\n",
    "for rating in ratings:\n",
    "    rating_userid.append(rating.strip().split(\"::\")[0])\n",
    "    rating_movieid.append(rating.strip().split(\"::\")[1])\n",
    "    rating_property.append( \"::\".join(rating.strip().split(\"::\")[2:]))"
   ]
  },
  {
   "cell_type": "markdown",
   "metadata": {},
   "source": [
    "### To get the movie_property corresponding to movie_id, create dictionary"
   ]
  },
  {
   "cell_type": "code",
   "execution_count": 9,
   "metadata": {},
   "outputs": [],
   "source": [
    "dict_movie = {}\n",
    "for i in list(range(len(movie_id))):\n",
    "    dict_movie[movie_id[i]] = movie_property[i]"
   ]
  },
  {
   "cell_type": "markdown",
   "metadata": {},
   "source": [
    "### To get the user_property corresponding to user_id, create dictionary"
   ]
  },
  {
   "cell_type": "code",
   "execution_count": 10,
   "metadata": {},
   "outputs": [],
   "source": [
    "dict_user = {}\n",
    "for i in list(range(len(user_id))):\n",
    "    dict_user[user_id[i]] = user_property[i]"
   ]
  },
  {
   "cell_type": "markdown",
   "metadata": {},
   "source": [
    "### Finally, we create the new file as merged"
   ]
  },
  {
   "cell_type": "code",
   "execution_count": 11,
   "metadata": {},
   "outputs": [],
   "source": [
    "outputfilename=\"./data-files/ml-1m/merged.dat\"\n",
    "outputfile=open(outputfilename,\"w\")\n",
    "for i in list(range(len(rating_userid))):\n",
    "    print(rating_userid[i], rating_movieid[i],rating_property[i],dict_user[rating_userid[i]],dict_movie[rating_movieid[i]],sep=\"::\",file=outputfile)\n",
    "outputfile.close()"
   ]
  },
  {
   "cell_type": "code",
   "execution_count": 13,
   "metadata": {},
   "outputs": [
    {
     "data": {
      "text/plain": [
       "[\"1::1193::5::978300760::F::1::10::48067::One Flew Over the Cuckoo's Nest ::Drama::1975\\n\",\n",
       " \"1::661::3::978302109::F::1::10::48067::James and the Giant Peach ::Animation|Children's|Musical::1996\\n\",\n",
       " '1::914::3::978301968::F::1::10::48067::My Fair Lady ::Musical|Romance::1964\\n',\n",
       " '1::3408::4::978300275::F::1::10::48067::Erin Brockovich ::Drama::2000\\n']"
      ]
     },
     "execution_count": 13,
     "metadata": {},
     "output_type": "execute_result"
    }
   ],
   "source": [
    "open(\"./data-files/ml-1m/merged.dat\").readlines()[:4]"
   ]
  },
  {
   "cell_type": "markdown",
   "metadata": {},
   "source": [
    "# Now, we can write our function giving the merged dataset."
   ]
  },
  {
   "cell_type": "code",
   "execution_count": 14,
   "metadata": {},
   "outputs": [],
   "source": [
    "def problem5(file1,file2,file3,mergedfile):\n",
    "    moviefilename=file1\n",
    "    moviefile=open(moviefilename,encoding=\"latin-1\")\n",
    "    movies=moviefile.readlines()\n",
    "    userfilename=file2\n",
    "    userfile=open(userfilename,encoding=\"latin-1\")\n",
    "    users=userfile.readlines()\n",
    "    ratingsfilename=file3\n",
    "    ratingfile=open(ratingsfilename,encoding=\"latin-1\")\n",
    "    ratings=ratingfile.readlines()\n",
    "    pattern=r\"\\((\\d+)\\)\"\n",
    "    movie_id = []\n",
    "    movie_property = []\n",
    "    for movie in movies:\n",
    "        movieid,movie_title,movie_genre=movie.strip().split(\"::\")\n",
    "        year=re.findall(pattern,movie_title)[0]\n",
    "        movie_title_modified=re.sub(pattern,\"\",movie_title)\n",
    "        movie_id.append(movieid)\n",
    "        movie_property.append( \"::\".join([movie_title_modified,movie_genre,year]))\n",
    "    user_id = []\n",
    "    user_property = []\n",
    "    for user in users:\n",
    "        user_id.append(user.strip().split(\"::\")[0])\n",
    "        user_property.append( \"::\".join(user.strip().split(\"::\")[1:]))\n",
    "    rating_userid = []\n",
    "    rating_movieid = []\n",
    "    rating_property = []\n",
    "    for rating in ratings:\n",
    "        rating_userid.append(rating.strip().split(\"::\")[0])\n",
    "        rating_movieid.append(rating.strip().split(\"::\")[1])\n",
    "        rating_property.append( \"::\".join(rating.strip().split(\"::\")[2:]))\n",
    "    \n",
    "    dict_movie = {}\n",
    "    for i in list(range(len(movie_id))):\n",
    "        dict_movie[movie_id[i]] = movie_property[i]\n",
    "    dict_user = {}\n",
    "    for i in list(range(len(user_id))):\n",
    "        dict_user[user_id[i]] = user_property[i]\n",
    "    \n",
    "    outputfilename=mergedfile\n",
    "    outputfile=open(outputfilename,\"w\")\n",
    "    for i in list(range(len(rating_userid))):\n",
    "        print(rating_userid[i], rating_movieid[i],rating_property[i],dict_user[rating_userid[i]],dict_movie[rating_movieid[i]],sep=\"::\",file=outputfile)\n",
    "    outputfile.close()"
   ]
  }
 ],
 "metadata": {
  "kernelspec": {
   "display_name": "Python 3",
   "language": "python",
   "name": "python3"
  },
  "language_info": {
   "codemirror_mode": {
    "name": "ipython",
    "version": 3
   },
   "file_extension": ".py",
   "mimetype": "text/x-python",
   "name": "python",
   "nbconvert_exporter": "python",
   "pygments_lexer": "ipython3",
   "version": "3.7.0"
  }
 },
 "nbformat": 4,
 "nbformat_minor": 2
}
