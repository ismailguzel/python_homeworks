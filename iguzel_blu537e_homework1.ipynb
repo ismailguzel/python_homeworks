{
 "cells": [
  {
   "cell_type": "markdown",
   "metadata": {},
   "source": [
    "# Load Libraries"
   ]
  },
  {
   "cell_type": "code",
   "execution_count": 1,
   "metadata": {},
   "outputs": [],
   "source": [
    "import os\n",
    "import re\n",
    "from time import time\n",
    "import random"
   ]
  },
  {
   "cell_type": "markdown",
   "metadata": {},
   "source": [
    "## Problem1"
   ]
  },
  {
   "cell_type": "code",
   "execution_count": 2,
   "metadata": {},
   "outputs": [],
   "source": [
    "def problem1(foldername):\n",
    "    start = time()\n",
    "    path = os.getcwd() + os.sep + \"data-files\" + os.sep + foldername + os.sep\n",
    "    files = sorted(os.listdir(path))\n",
    "    files =files[1:]\n",
    "    for file in files:\n",
    "        names = open(path + file)\n",
    "        names = names.readlines()\n",
    "        name = names[0].strip().split(\" \")[4] + \".pdbqt\"\n",
    "        os.rename(path + file , path + name )\n",
    "    end = time()\n",
    "    print(\"The number of processed files:\", len(files))\n",
    "    print(\"Estimated hours to9 process three million files: \", (end-start)*3*(10**6)/(38*3600))"
   ]
  },
  {
   "cell_type": "code",
   "execution_count": 3,
   "metadata": {},
   "outputs": [
    {
     "name": "stdout",
     "output_type": "stream",
     "text": [
      "The number of processed files: 38\n",
      "Estimated hours to9 process three million files:  1.3807259107890881\n"
     ]
    }
   ],
   "source": [
    "problem1(\"mol_files\")"
   ]
  },
  {
   "cell_type": "markdown",
   "metadata": {},
   "source": [
    "## Problem2"
   ]
  },
  {
   "cell_type": "code",
   "execution_count": 4,
   "metadata": {},
   "outputs": [],
   "source": [
    "def problem2(item):\n",
    "    if item < 10:\n",
    "        price = \"$\" + str(item*12)\n",
    "        print(\"Total cost is\", price)\n",
    "    elif 10<= item <=99:\n",
    "        price = \"$\" + str(item*10)\n",
    "        print(\"Total cost is\", price)\n",
    "    elif 99< item:\n",
    "        price = \"$\" + str(item*7)\n",
    "        print(\"Total cost is\", price)"
   ]
  },
  {
   "cell_type": "code",
   "execution_count": 5,
   "metadata": {},
   "outputs": [
    {
     "name": "stdout",
     "output_type": "stream",
     "text": [
      "Total cost is $96\n"
     ]
    }
   ],
   "source": [
    "problem2(8)"
   ]
  },
  {
   "cell_type": "markdown",
   "metadata": {},
   "source": [
    "## Problem3"
   ]
  },
  {
   "cell_type": "code",
   "execution_count": 6,
   "metadata": {},
   "outputs": [],
   "source": [
    "def problem3():\n",
    "    random.seed(18)\n",
    "    my_list=[]\n",
    "    for x in range(20):\n",
    "        my_list.append(random.randint(1,100))\n",
    "    my_sortedlist = sorted(my_list, reverse= True)\n",
    "    my_averagelist = sum(my_list)/len(my_list)\n",
    "    my_evenlist = []\n",
    "    for entry in my_list:\n",
    "        if entry % 2 ==0:\n",
    "            my_evenlist.append(entry)\n",
    "    my_largest = my_sortedlist[0]\n",
    "    my_smallest = my_sortedlist[-1]\n",
    "    for i in range(1,len(my_list)+1):\n",
    "        if my_sortedlist[-i] < my_sortedlist[-(i+1)]:\n",
    "            my_secondsmallest = my_sortedlist[-(i+1)]\n",
    "            break\n",
    "        else:\n",
    "            pass\n",
    "    for i in range(0,len(my_list)):\n",
    "        if my_sortedlist[i] > my_sortedlist[i+1]:\n",
    "            my_secondlargest = my_sortedlist[i+1]\n",
    "            break\n",
    "        else:\n",
    "            pass\n",
    "    print(\"the numbers in the list:\\n\", my_list)\n",
    "    print(\"the sorted list:\\n\", my_sortedlist)\n",
    "    print(\"the average of the list:\", my_averagelist)\n",
    "    print(\"the number of even-numbers is :\", len(my_evenlist))\n",
    "    print(\"the largest element of the list:\", my_largest)\n",
    "    print(\"the smallest element of the list:\", my_smallest)\n",
    "    print(\"the second smallest element of the list:\", my_secondsmallest)\n",
    "    print(\"the second largest element of the list:\", my_secondlargest)"
   ]
  },
  {
   "cell_type": "code",
   "execution_count": 7,
   "metadata": {},
   "outputs": [
    {
     "name": "stdout",
     "output_type": "stream",
     "text": [
      "the numbers in the list:\n",
      " [24, 16, 85, 58, 43, 31, 26, 63, 81, 64, 24, 62, 38, 59, 34, 26, 33, 89, 16, 42]\n",
      "the sorted list:\n",
      " [89, 85, 81, 64, 63, 62, 59, 58, 43, 42, 38, 34, 33, 31, 26, 26, 24, 24, 16, 16]\n",
      "the average of the list: 45.7\n",
      "the number of even-numbers is : 12\n",
      "the largest element of the list: 89\n",
      "the smallest element of the list: 16\n",
      "the second smallest element of the list: 24\n",
      "the second largest element of the list: 85\n"
     ]
    }
   ],
   "source": [
    "problem3()"
   ]
  },
  {
   "cell_type": "markdown",
   "metadata": {},
   "source": [
    "## Problem4"
   ]
  },
  {
   "cell_type": "code",
   "execution_count": 8,
   "metadata": {},
   "outputs": [],
   "source": [
    "def problem4(n):\n",
    "    fib=[1,1]\n",
    "    for i in range(2,n+1):\n",
    "        fib.append(fib[i-2]+fib[i-1])\n",
    "    print(fib[0:n])"
   ]
  },
  {
   "cell_type": "code",
   "execution_count": 9,
   "metadata": {},
   "outputs": [
    {
     "name": "stdout",
     "output_type": "stream",
     "text": [
      "[1, 1, 2, 3, 5, 8, 13, 21, 34, 55]\n"
     ]
    }
   ],
   "source": [
    "problem4(10)"
   ]
  },
  {
   "cell_type": "markdown",
   "metadata": {},
   "source": [
    "## Problem5"
   ]
  },
  {
   "cell_type": "code",
   "execution_count": 10,
   "metadata": {},
   "outputs": [],
   "source": [
    "def problem5(file1,file2,file3,mergedfile):\n",
    "    moviefilename=file1\n",
    "    moviefile=open(moviefilename,encoding=\"latin-1\")\n",
    "    movies=moviefile.readlines()\n",
    "    userfilename=file2\n",
    "    userfile=open(userfilename,encoding=\"latin-1\")\n",
    "    users=userfile.readlines()\n",
    "    ratingsfilename=file3\n",
    "    ratingfile=open(ratingsfilename,encoding=\"latin-1\")\n",
    "    ratings=ratingfile.readlines()\n",
    "    pattern=r\"\\((\\d+)\\)\"\n",
    "    movie_id = []\n",
    "    movie_property = []\n",
    "    for movie in movies:\n",
    "        movieid,movie_title,movie_genre=movie.strip().split(\"::\")\n",
    "        year=re.findall(pattern,movie_title)[0]\n",
    "        movie_title_modified=re.sub(pattern,\"\",movie_title)\n",
    "        movie_id.append(movieid)\n",
    "        movie_property.append( \"::\".join([movie_title_modified,movie_genre,year]))\n",
    "    user_id = []\n",
    "    user_property = []\n",
    "    for user in users:\n",
    "        user_id.append(user.strip().split(\"::\")[0])\n",
    "        user_property.append( \"::\".join(user.strip().split(\"::\")[1:]))\n",
    "    rating_userid = []\n",
    "    rating_movieid = []\n",
    "    rating_property = []\n",
    "    for rating in ratings:\n",
    "        rating_userid.append(rating.strip().split(\"::\")[0])\n",
    "        rating_movieid.append(rating.strip().split(\"::\")[1])\n",
    "        rating_property.append( \"::\".join(rating.strip().split(\"::\")[2:]))\n",
    "    \n",
    "    dict_movie = {}\n",
    "    for i in list(range(len(movie_id))):\n",
    "        dict_movie[movie_id[i]] = movie_property[i]\n",
    "    dict_user = {}\n",
    "    for i in list(range(len(user_id))):\n",
    "        dict_user[user_id[i]] = user_property[i]\n",
    "    \n",
    "    outputfilename=mergedfile\n",
    "    outputfile=open(outputfilename,\"w\")\n",
    "    for i in list(range(len(rating_userid))):\n",
    "        print(rating_userid[i], rating_movieid[i],rating_property[i],dict_user[rating_userid[i]],dict_movie[rating_movieid[i]],sep=\"::\",file=outputfile)\n",
    "    outputfile.close()"
   ]
  },
  {
   "cell_type": "code",
   "execution_count": 11,
   "metadata": {},
   "outputs": [],
   "source": [
    "problem5(\"data-files/movies.dat\",\"data-files/users.dat\",\"data-files/ratings.dat\",\"data-files/merged.dat\")"
   ]
  }
 ],
 "metadata": {
  "kernelspec": {
   "display_name": "Python 3",
   "language": "python",
   "name": "python3"
  },
  "language_info": {
   "codemirror_mode": {
    "name": "ipython",
    "version": 3
   },
   "file_extension": ".py",
   "mimetype": "text/x-python",
   "name": "python",
   "nbconvert_exporter": "python",
   "pygments_lexer": "ipython3",
   "version": "3.7.0"
  }
 },
 "nbformat": 4,
 "nbformat_minor": 2
}
